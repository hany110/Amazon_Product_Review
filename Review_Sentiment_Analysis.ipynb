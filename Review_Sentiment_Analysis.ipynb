{
  "nbformat": 4,
  "nbformat_minor": 0,
  "metadata": {
    "colab": {
      "name": "Amazon_Product_Review.ipynb",
      "provenance": []
    },
    "kernelspec": {
      "name": "python3",
      "display_name": "Python 3"
    }
  },
  "cells": [
    {
      "cell_type": "code",
      "metadata": {
        "id": "djs07_7ypRCf",
        "colab_type": "code",
        "colab": {
          "base_uri": "https://localhost:8080/",
          "height": 419
        },
        "outputId": "37076120-836e-48ba-f7f6-dc02a3ebbb0c"
      },
      "source": [
        "import pandas as pd\n",
        "import numpy as np\n",
        "import math\n",
        "import string\n",
        "#--turn of warning messages\n",
        "pd.options.mode.chained_assignment = None  # default='warn'\n",
        "\n",
        "#--get data\n",
        "df = pd.read_csv('amazon_baby.csv')\n",
        "df"
      ],
      "execution_count": 31,
      "outputs": [
        {
          "output_type": "execute_result",
          "data": {
            "text/html": [
              "<div>\n",
              "<style scoped>\n",
              "    .dataframe tbody tr th:only-of-type {\n",
              "        vertical-align: middle;\n",
              "    }\n",
              "\n",
              "    .dataframe tbody tr th {\n",
              "        vertical-align: top;\n",
              "    }\n",
              "\n",
              "    .dataframe thead th {\n",
              "        text-align: right;\n",
              "    }\n",
              "</style>\n",
              "<table border=\"1\" class=\"dataframe\">\n",
              "  <thead>\n",
              "    <tr style=\"text-align: right;\">\n",
              "      <th></th>\n",
              "      <th>name</th>\n",
              "      <th>review</th>\n",
              "      <th>rating</th>\n",
              "    </tr>\n",
              "  </thead>\n",
              "  <tbody>\n",
              "    <tr>\n",
              "      <th>0</th>\n",
              "      <td>Planetwise Flannel Wipes</td>\n",
              "      <td>These flannel wipes are OK, but in my opinion ...</td>\n",
              "      <td>3</td>\n",
              "    </tr>\n",
              "    <tr>\n",
              "      <th>1</th>\n",
              "      <td>Planetwise Wipe Pouch</td>\n",
              "      <td>it came early and was not disappointed. i love...</td>\n",
              "      <td>5</td>\n",
              "    </tr>\n",
              "    <tr>\n",
              "      <th>2</th>\n",
              "      <td>Annas Dream Full Quilt with 2 Shams</td>\n",
              "      <td>Very soft and comfortable and warmer than it l...</td>\n",
              "      <td>5</td>\n",
              "    </tr>\n",
              "    <tr>\n",
              "      <th>3</th>\n",
              "      <td>Stop Pacifier Sucking without tears with Thumb...</td>\n",
              "      <td>This is a product well worth the purchase.  I ...</td>\n",
              "      <td>5</td>\n",
              "    </tr>\n",
              "    <tr>\n",
              "      <th>4</th>\n",
              "      <td>Stop Pacifier Sucking without tears with Thumb...</td>\n",
              "      <td>All of my kids have cried non-stop when I trie...</td>\n",
              "      <td>5</td>\n",
              "    </tr>\n",
              "    <tr>\n",
              "      <th>...</th>\n",
              "      <td>...</td>\n",
              "      <td>...</td>\n",
              "      <td>...</td>\n",
              "    </tr>\n",
              "    <tr>\n",
              "      <th>183526</th>\n",
              "      <td>Baby Teething Necklace for Mom Pretty Donut Sh...</td>\n",
              "      <td>Such a great idea! very handy to have and look...</td>\n",
              "      <td>5</td>\n",
              "    </tr>\n",
              "    <tr>\n",
              "      <th>183527</th>\n",
              "      <td>Baby Teething Necklace for Mom Pretty Donut Sh...</td>\n",
              "      <td>This product rocks!  It is a great blend of fu...</td>\n",
              "      <td>5</td>\n",
              "    </tr>\n",
              "    <tr>\n",
              "      <th>183528</th>\n",
              "      <td>Abstract 2 PK Baby / Toddler Training Cup (Pink)</td>\n",
              "      <td>This item looks great and cool for my kids.......</td>\n",
              "      <td>5</td>\n",
              "    </tr>\n",
              "    <tr>\n",
              "      <th>183529</th>\n",
              "      <td>Baby Food Freezer Tray - Bacteria Resistant, B...</td>\n",
              "      <td>I am extremely happy with this product. I have...</td>\n",
              "      <td>5</td>\n",
              "    </tr>\n",
              "    <tr>\n",
              "      <th>183530</th>\n",
              "      <td>Best 2 Pack Baby Car Shade for Kids - Window S...</td>\n",
              "      <td>I love this product very mush . I have bought ...</td>\n",
              "      <td>5</td>\n",
              "    </tr>\n",
              "  </tbody>\n",
              "</table>\n",
              "<p>183531 rows × 3 columns</p>\n",
              "</div>"
            ],
            "text/plain": [
              "                                                     name  ... rating\n",
              "0                                Planetwise Flannel Wipes  ...      3\n",
              "1                                   Planetwise Wipe Pouch  ...      5\n",
              "2                     Annas Dream Full Quilt with 2 Shams  ...      5\n",
              "3       Stop Pacifier Sucking without tears with Thumb...  ...      5\n",
              "4       Stop Pacifier Sucking without tears with Thumb...  ...      5\n",
              "...                                                   ...  ...    ...\n",
              "183526  Baby Teething Necklace for Mom Pretty Donut Sh...  ...      5\n",
              "183527  Baby Teething Necklace for Mom Pretty Donut Sh...  ...      5\n",
              "183528   Abstract 2 PK Baby / Toddler Training Cup (Pink)  ...      5\n",
              "183529  Baby Food Freezer Tray - Bacteria Resistant, B...  ...      5\n",
              "183530  Best 2 Pack Baby Car Shade for Kids - Window S...  ...      5\n",
              "\n",
              "[183531 rows x 3 columns]"
            ]
          },
          "metadata": {
            "tags": []
          },
          "execution_count": 31
        }
      ]
    },
    {
      "cell_type": "code",
      "metadata": {
        "id": "jJ5XfWkG22Aw",
        "colab_type": "code",
        "colab": {
          "base_uri": "https://localhost:8080/",
          "height": 85
        },
        "outputId": "28a8a5ca-b54b-4764-c2bc-7629b161aa5f"
      },
      "source": [
        "df.isnull().sum(axis = 0)"
      ],
      "execution_count": 32,
      "outputs": [
        {
          "output_type": "execute_result",
          "data": {
            "text/plain": [
              "name      318\n",
              "review    829\n",
              "rating      0\n",
              "dtype: int64"
            ]
          },
          "metadata": {
            "tags": []
          },
          "execution_count": 32
        }
      ]
    },
    {
      "cell_type": "code",
      "metadata": {
        "id": "P9CsV_in3B89",
        "colab_type": "code",
        "colab": {}
      },
      "source": [
        "df = df.dropna()"
      ],
      "execution_count": 33,
      "outputs": []
    },
    {
      "cell_type": "code",
      "metadata": {
        "id": "bshI_tSf3bTD",
        "colab_type": "code",
        "colab": {
          "base_uri": "https://localhost:8080/",
          "height": 34
        },
        "outputId": "dd04eb40-20c0-483e-fc7d-fea6830fd50e"
      },
      "source": [
        "df = df[df['rating'] != 3]\n",
        "len(df)"
      ],
      "execution_count": 34,
      "outputs": [
        {
          "output_type": "execute_result",
          "data": {
            "text/plain": [
              "165679"
            ]
          },
          "metadata": {
            "tags": []
          },
          "execution_count": 34
        }
      ]
    },
    {
      "cell_type": "code",
      "metadata": {
        "id": "474t4Ykx3xcs",
        "colab_type": "code",
        "colab": {
          "base_uri": "https://localhost:8080/",
          "height": 419
        },
        "outputId": "6c38aabb-0326-4fff-e1d1-9a7eb602ad57"
      },
      "source": [
        "df['Sentiment'] = np.where(df.rating > 3, 1, -1)\n",
        "#df['sentiment'] = df['rating'].apply(lambda rating : +1 if rating > 3 else -1)\n",
        "df"
      ],
      "execution_count": 35,
      "outputs": [
        {
          "output_type": "execute_result",
          "data": {
            "text/html": [
              "<div>\n",
              "<style scoped>\n",
              "    .dataframe tbody tr th:only-of-type {\n",
              "        vertical-align: middle;\n",
              "    }\n",
              "\n",
              "    .dataframe tbody tr th {\n",
              "        vertical-align: top;\n",
              "    }\n",
              "\n",
              "    .dataframe thead th {\n",
              "        text-align: right;\n",
              "    }\n",
              "</style>\n",
              "<table border=\"1\" class=\"dataframe\">\n",
              "  <thead>\n",
              "    <tr style=\"text-align: right;\">\n",
              "      <th></th>\n",
              "      <th>name</th>\n",
              "      <th>review</th>\n",
              "      <th>rating</th>\n",
              "      <th>Sentiment</th>\n",
              "    </tr>\n",
              "  </thead>\n",
              "  <tbody>\n",
              "    <tr>\n",
              "      <th>1</th>\n",
              "      <td>Planetwise Wipe Pouch</td>\n",
              "      <td>it came early and was not disappointed. i love...</td>\n",
              "      <td>5</td>\n",
              "      <td>1</td>\n",
              "    </tr>\n",
              "    <tr>\n",
              "      <th>2</th>\n",
              "      <td>Annas Dream Full Quilt with 2 Shams</td>\n",
              "      <td>Very soft and comfortable and warmer than it l...</td>\n",
              "      <td>5</td>\n",
              "      <td>1</td>\n",
              "    </tr>\n",
              "    <tr>\n",
              "      <th>3</th>\n",
              "      <td>Stop Pacifier Sucking without tears with Thumb...</td>\n",
              "      <td>This is a product well worth the purchase.  I ...</td>\n",
              "      <td>5</td>\n",
              "      <td>1</td>\n",
              "    </tr>\n",
              "    <tr>\n",
              "      <th>4</th>\n",
              "      <td>Stop Pacifier Sucking without tears with Thumb...</td>\n",
              "      <td>All of my kids have cried non-stop when I trie...</td>\n",
              "      <td>5</td>\n",
              "      <td>1</td>\n",
              "    </tr>\n",
              "    <tr>\n",
              "      <th>5</th>\n",
              "      <td>Stop Pacifier Sucking without tears with Thumb...</td>\n",
              "      <td>When the Binky Fairy came to our house, we did...</td>\n",
              "      <td>5</td>\n",
              "      <td>1</td>\n",
              "    </tr>\n",
              "    <tr>\n",
              "      <th>...</th>\n",
              "      <td>...</td>\n",
              "      <td>...</td>\n",
              "      <td>...</td>\n",
              "      <td>...</td>\n",
              "    </tr>\n",
              "    <tr>\n",
              "      <th>183526</th>\n",
              "      <td>Baby Teething Necklace for Mom Pretty Donut Sh...</td>\n",
              "      <td>Such a great idea! very handy to have and look...</td>\n",
              "      <td>5</td>\n",
              "      <td>1</td>\n",
              "    </tr>\n",
              "    <tr>\n",
              "      <th>183527</th>\n",
              "      <td>Baby Teething Necklace for Mom Pretty Donut Sh...</td>\n",
              "      <td>This product rocks!  It is a great blend of fu...</td>\n",
              "      <td>5</td>\n",
              "      <td>1</td>\n",
              "    </tr>\n",
              "    <tr>\n",
              "      <th>183528</th>\n",
              "      <td>Abstract 2 PK Baby / Toddler Training Cup (Pink)</td>\n",
              "      <td>This item looks great and cool for my kids.......</td>\n",
              "      <td>5</td>\n",
              "      <td>1</td>\n",
              "    </tr>\n",
              "    <tr>\n",
              "      <th>183529</th>\n",
              "      <td>Baby Food Freezer Tray - Bacteria Resistant, B...</td>\n",
              "      <td>I am extremely happy with this product. I have...</td>\n",
              "      <td>5</td>\n",
              "      <td>1</td>\n",
              "    </tr>\n",
              "    <tr>\n",
              "      <th>183530</th>\n",
              "      <td>Best 2 Pack Baby Car Shade for Kids - Window S...</td>\n",
              "      <td>I love this product very mush . I have bought ...</td>\n",
              "      <td>5</td>\n",
              "      <td>1</td>\n",
              "    </tr>\n",
              "  </tbody>\n",
              "</table>\n",
              "<p>165679 rows × 4 columns</p>\n",
              "</div>"
            ],
            "text/plain": [
              "                                                     name  ... Sentiment\n",
              "1                                   Planetwise Wipe Pouch  ...         1\n",
              "2                     Annas Dream Full Quilt with 2 Shams  ...         1\n",
              "3       Stop Pacifier Sucking without tears with Thumb...  ...         1\n",
              "4       Stop Pacifier Sucking without tears with Thumb...  ...         1\n",
              "5       Stop Pacifier Sucking without tears with Thumb...  ...         1\n",
              "...                                                   ...  ...       ...\n",
              "183526  Baby Teething Necklace for Mom Pretty Donut Sh...  ...         1\n",
              "183527  Baby Teething Necklace for Mom Pretty Donut Sh...  ...         1\n",
              "183528   Abstract 2 PK Baby / Toddler Training Cup (Pink)  ...         1\n",
              "183529  Baby Food Freezer Tray - Bacteria Resistant, B...  ...         1\n",
              "183530  Best 2 Pack Baby Car Shade for Kids - Window S...  ...         1\n",
              "\n",
              "[165679 rows x 4 columns]"
            ]
          },
          "metadata": {
            "tags": []
          },
          "execution_count": 35
        }
      ]
    },
    {
      "cell_type": "code",
      "metadata": {
        "id": "NydzMI7Q42Sc",
        "colab_type": "code",
        "colab": {}
      },
      "source": [
        "import string \n",
        "def remove_punctuation(text):\n",
        "    try: # python 2.x\n",
        "        text = text.translate(None, string.punctuation) \n",
        "    except: # python 3.x\n",
        "        translator = text.maketrans('', '', string.punctuation)\n",
        "        text = text.translate(translator)\n",
        "    return text\n",
        "\n",
        "review_without_punctuation = df['review'].apply(remove_punctuation)"
      ],
      "execution_count": 36,
      "outputs": []
    },
    {
      "cell_type": "code",
      "metadata": {
        "id": "5uFGrm9DCZ79",
        "colab_type": "code",
        "colab": {
          "base_uri": "https://localhost:8080/",
          "height": 419
        },
        "outputId": "16710ef6-018b-4fff-ec21-1ae21e5d0c87"
      },
      "source": [
        "def word_count(str):\n",
        "    counts = dict()\n",
        "    words = str.split()\n",
        "\n",
        "    for word in words:\n",
        "        if word in counts:\n",
        "            counts[word] += 1\n",
        "        else:\n",
        "            counts[word] = 1\n",
        "\n",
        "    return counts\n",
        "df['word_count'] = review_without_punctuation.apply(word_count)\n",
        "df\n",
        "#Using CountVectorizer would make things simpler."
      ],
      "execution_count": 37,
      "outputs": [
        {
          "output_type": "execute_result",
          "data": {
            "text/html": [
              "<div>\n",
              "<style scoped>\n",
              "    .dataframe tbody tr th:only-of-type {\n",
              "        vertical-align: middle;\n",
              "    }\n",
              "\n",
              "    .dataframe tbody tr th {\n",
              "        vertical-align: top;\n",
              "    }\n",
              "\n",
              "    .dataframe thead th {\n",
              "        text-align: right;\n",
              "    }\n",
              "</style>\n",
              "<table border=\"1\" class=\"dataframe\">\n",
              "  <thead>\n",
              "    <tr style=\"text-align: right;\">\n",
              "      <th></th>\n",
              "      <th>name</th>\n",
              "      <th>review</th>\n",
              "      <th>rating</th>\n",
              "      <th>Sentiment</th>\n",
              "      <th>word_count</th>\n",
              "    </tr>\n",
              "  </thead>\n",
              "  <tbody>\n",
              "    <tr>\n",
              "      <th>1</th>\n",
              "      <td>Planetwise Wipe Pouch</td>\n",
              "      <td>it came early and was not disappointed. i love...</td>\n",
              "      <td>5</td>\n",
              "      <td>1</td>\n",
              "      <td>{'it': 3, 'came': 1, 'early': 1, 'and': 3, 'wa...</td>\n",
              "    </tr>\n",
              "    <tr>\n",
              "      <th>2</th>\n",
              "      <td>Annas Dream Full Quilt with 2 Shams</td>\n",
              "      <td>Very soft and comfortable and warmer than it l...</td>\n",
              "      <td>5</td>\n",
              "      <td>1</td>\n",
              "      <td>{'Very': 1, 'soft': 1, 'and': 2, 'comfortable'...</td>\n",
              "    </tr>\n",
              "    <tr>\n",
              "      <th>3</th>\n",
              "      <td>Stop Pacifier Sucking without tears with Thumb...</td>\n",
              "      <td>This is a product well worth the purchase.  I ...</td>\n",
              "      <td>5</td>\n",
              "      <td>1</td>\n",
              "      <td>{'This': 1, 'is': 4, 'a': 2, 'product': 2, 'we...</td>\n",
              "    </tr>\n",
              "    <tr>\n",
              "      <th>4</th>\n",
              "      <td>Stop Pacifier Sucking without tears with Thumb...</td>\n",
              "      <td>All of my kids have cried non-stop when I trie...</td>\n",
              "      <td>5</td>\n",
              "      <td>1</td>\n",
              "      <td>{'All': 1, 'of': 1, 'my': 1, 'kids': 2, 'have'...</td>\n",
              "    </tr>\n",
              "    <tr>\n",
              "      <th>5</th>\n",
              "      <td>Stop Pacifier Sucking without tears with Thumb...</td>\n",
              "      <td>When the Binky Fairy came to our house, we did...</td>\n",
              "      <td>5</td>\n",
              "      <td>1</td>\n",
              "      <td>{'When': 1, 'the': 5, 'Binky': 3, 'Fairy': 3, ...</td>\n",
              "    </tr>\n",
              "    <tr>\n",
              "      <th>...</th>\n",
              "      <td>...</td>\n",
              "      <td>...</td>\n",
              "      <td>...</td>\n",
              "      <td>...</td>\n",
              "      <td>...</td>\n",
              "    </tr>\n",
              "    <tr>\n",
              "      <th>183526</th>\n",
              "      <td>Baby Teething Necklace for Mom Pretty Donut Sh...</td>\n",
              "      <td>Such a great idea! very handy to have and look...</td>\n",
              "      <td>5</td>\n",
              "      <td>1</td>\n",
              "      <td>{'Such': 1, 'a': 1, 'great': 2, 'idea': 1, 've...</td>\n",
              "    </tr>\n",
              "    <tr>\n",
              "      <th>183527</th>\n",
              "      <td>Baby Teething Necklace for Mom Pretty Donut Sh...</td>\n",
              "      <td>This product rocks!  It is a great blend of fu...</td>\n",
              "      <td>5</td>\n",
              "      <td>1</td>\n",
              "      <td>{'This': 1, 'product': 2, 'rocks': 1, 'It': 1,...</td>\n",
              "    </tr>\n",
              "    <tr>\n",
              "      <th>183528</th>\n",
              "      <td>Abstract 2 PK Baby / Toddler Training Cup (Pink)</td>\n",
              "      <td>This item looks great and cool for my kids.......</td>\n",
              "      <td>5</td>\n",
              "      <td>1</td>\n",
              "      <td>{'This': 1, 'item': 1, 'looks': 1, 'great': 2,...</td>\n",
              "    </tr>\n",
              "    <tr>\n",
              "      <th>183529</th>\n",
              "      <td>Baby Food Freezer Tray - Bacteria Resistant, B...</td>\n",
              "      <td>I am extremely happy with this product. I have...</td>\n",
              "      <td>5</td>\n",
              "      <td>1</td>\n",
              "      <td>{'I': 9, 'am': 2, 'extremely': 1, 'happy': 1, ...</td>\n",
              "    </tr>\n",
              "    <tr>\n",
              "      <th>183530</th>\n",
              "      <td>Best 2 Pack Baby Car Shade for Kids - Window S...</td>\n",
              "      <td>I love this product very mush . I have bought ...</td>\n",
              "      <td>5</td>\n",
              "      <td>1</td>\n",
              "      <td>{'I': 2, 'love': 1, 'this': 1, 'product': 1, '...</td>\n",
              "    </tr>\n",
              "  </tbody>\n",
              "</table>\n",
              "<p>165679 rows × 5 columns</p>\n",
              "</div>"
            ],
            "text/plain": [
              "                                                     name  ...                                         word_count\n",
              "1                                   Planetwise Wipe Pouch  ...  {'it': 3, 'came': 1, 'early': 1, 'and': 3, 'wa...\n",
              "2                     Annas Dream Full Quilt with 2 Shams  ...  {'Very': 1, 'soft': 1, 'and': 2, 'comfortable'...\n",
              "3       Stop Pacifier Sucking without tears with Thumb...  ...  {'This': 1, 'is': 4, 'a': 2, 'product': 2, 'we...\n",
              "4       Stop Pacifier Sucking without tears with Thumb...  ...  {'All': 1, 'of': 1, 'my': 1, 'kids': 2, 'have'...\n",
              "5       Stop Pacifier Sucking without tears with Thumb...  ...  {'When': 1, 'the': 5, 'Binky': 3, 'Fairy': 3, ...\n",
              "...                                                   ...  ...                                                ...\n",
              "183526  Baby Teething Necklace for Mom Pretty Donut Sh...  ...  {'Such': 1, 'a': 1, 'great': 2, 'idea': 1, 've...\n",
              "183527  Baby Teething Necklace for Mom Pretty Donut Sh...  ...  {'This': 1, 'product': 2, 'rocks': 1, 'It': 1,...\n",
              "183528   Abstract 2 PK Baby / Toddler Training Cup (Pink)  ...  {'This': 1, 'item': 1, 'looks': 1, 'great': 2,...\n",
              "183529  Baby Food Freezer Tray - Bacteria Resistant, B...  ...  {'I': 9, 'am': 2, 'extremely': 1, 'happy': 1, ...\n",
              "183530  Best 2 Pack Baby Car Shade for Kids - Window S...  ...  {'I': 2, 'love': 1, 'this': 1, 'product': 1, '...\n",
              "\n",
              "[165679 rows x 5 columns]"
            ]
          },
          "metadata": {
            "tags": []
          },
          "execution_count": 37
        }
      ]
    },
    {
      "cell_type": "code",
      "metadata": {
        "id": "qTgRfVxJcX-S",
        "colab_type": "code",
        "colab": {}
      },
      "source": [
        "from sklearn.model_selection import train_test_split\n",
        "\n",
        "X_train, X_test, y_train, y_test = train_test_split(review_without_punctuation, df.Sentiment, test_size=0.2, random_state=0)"
      ],
      "execution_count": 137,
      "outputs": []
    },
    {
      "cell_type": "code",
      "metadata": {
        "id": "dHdG6nwPDOK8",
        "colab_type": "code",
        "colab": {
          "base_uri": "https://localhost:8080/",
          "height": 884
        },
        "outputId": "f4e66b13-0951-4b22-9cb0-3662e87d1aaa"
      },
      "source": [
        "from sklearn.feature_extraction.text import CountVectorizer\n",
        "\n",
        "vectorizer = CountVectorizer(min_df = 500, ngram_range = (1, 2)).fit(X_train)\n",
        "vectorized = vectorizer.transform(X_train)\n",
        "print(vectorized)"
      ],
      "execution_count": 138,
      "outputs": [
        {
          "output_type": "stream",
          "text": [
            "  (0, 53)\t1\n",
            "  (0, 108)\t1\n",
            "  (0, 114)\t1\n",
            "  (0, 233)\t1\n",
            "  (0, 265)\t1\n",
            "  (0, 268)\t1\n",
            "  (0, 355)\t1\n",
            "  (0, 356)\t1\n",
            "  (0, 432)\t3\n",
            "  (0, 489)\t1\n",
            "  (0, 501)\t1\n",
            "  (0, 628)\t1\n",
            "  (0, 889)\t1\n",
            "  (0, 976)\t2\n",
            "  (0, 996)\t1\n",
            "  (0, 1236)\t1\n",
            "  (0, 1238)\t1\n",
            "  (0, 1271)\t1\n",
            "  (0, 1371)\t5\n",
            "  (0, 1378)\t1\n",
            "  (0, 1400)\t1\n",
            "  (0, 1421)\t1\n",
            "  (0, 1425)\t1\n",
            "  (0, 1428)\t1\n",
            "  (0, 1438)\t3\n",
            "  :\t:\n",
            "  (132542, 2114)\t1\n",
            "  (132542, 2157)\t1\n",
            "  (132542, 2188)\t1\n",
            "  (132542, 2292)\t1\n",
            "  (132542, 2382)\t1\n",
            "  (132542, 2424)\t1\n",
            "  (132542, 2591)\t1\n",
            "  (132542, 2651)\t1\n",
            "  (132542, 2713)\t1\n",
            "  (132542, 2770)\t2\n",
            "  (132542, 2969)\t1\n",
            "  (132542, 2979)\t1\n",
            "  (132542, 2980)\t1\n",
            "  (132542, 3008)\t1\n",
            "  (132542, 3081)\t1\n",
            "  (132542, 3226)\t1\n",
            "  (132542, 3335)\t1\n",
            "  (132542, 3336)\t1\n",
            "  (132542, 3455)\t1\n",
            "  (132542, 3468)\t1\n",
            "  (132542, 3476)\t1\n",
            "  (132542, 3572)\t1\n",
            "  (132542, 3573)\t1\n",
            "  (132542, 3604)\t1\n",
            "  (132542, 3606)\t1\n"
          ],
          "name": "stdout"
        }
      ]
    },
    {
      "cell_type": "code",
      "metadata": {
        "id": "jas51GUAcYDH",
        "colab_type": "code",
        "colab": {
          "base_uri": "https://localhost:8080/",
          "height": 102
        },
        "outputId": "7bca82a7-f649-4d08-f1d4-ec52fa697a5b"
      },
      "source": [
        "from sklearn.linear_model import LogisticRegression\n",
        "\n",
        "lrg = LogisticRegression(max_iter= 1000)\n",
        "lrg.fit(vectorized, y_train)"
      ],
      "execution_count": 139,
      "outputs": [
        {
          "output_type": "execute_result",
          "data": {
            "text/plain": [
              "LogisticRegression(C=1.0, class_weight=None, dual=False, fit_intercept=True,\n",
              "                   intercept_scaling=1, l1_ratio=None, max_iter=1000,\n",
              "                   multi_class='auto', n_jobs=None, penalty='l2',\n",
              "                   random_state=None, solver='lbfgs', tol=0.0001, verbose=0,\n",
              "                   warm_start=False)"
            ]
          },
          "metadata": {
            "tags": []
          },
          "execution_count": 139
        }
      ]
    },
    {
      "cell_type": "code",
      "metadata": {
        "id": "mSvTmYkKcYBY",
        "colab_type": "code",
        "colab": {
          "base_uri": "https://localhost:8080/",
          "height": 238
        },
        "outputId": "4e4fcdf8-70de-4cf4-b1ac-2d9d9f559a72"
      },
      "source": [
        "from sklearn.metrics import accuracy_score\n",
        "from sklearn.metrics import classification_report\n",
        "\n",
        "pred = lrg.predict(vectorizer.transform(X_test))\n",
        "print(\"Accuracy Score:\")\n",
        "print(accuracy_score(y_test, pred))\n",
        "print(\"--------------------\")\n",
        "\n",
        "print('Classification Stats:')\n",
        "print(classification_report(y_test, pred))"
      ],
      "execution_count": 140,
      "outputs": [
        {
          "output_type": "stream",
          "text": [
            "Accuracy Score:\n",
            "0.938284645098986\n",
            "--------------------\n",
            "Classification Stats:\n",
            "              precision    recall  f1-score   support\n",
            "\n",
            "          -1       0.84      0.75      0.79      5222\n",
            "           1       0.95      0.97      0.96     27914\n",
            "\n",
            "    accuracy                           0.94     33136\n",
            "   macro avg       0.90      0.86      0.88     33136\n",
            "weighted avg       0.94      0.94      0.94     33136\n",
            "\n"
          ],
          "name": "stdout"
        }
      ]
    },
    {
      "cell_type": "code",
      "metadata": {
        "id": "AopAwGPs-SX8",
        "colab_type": "code",
        "colab": {
          "base_uri": "https://localhost:8080/",
          "height": 34
        },
        "outputId": "29a35eec-531c-4835-d615-b0386c9a8121"
      },
      "source": [
        "#--Model Deployment  --optional\n",
        "from sklearn.externals import joblib\n",
        "import os\n",
        "#--save models to be deployed on your server\n",
        "if not os.path.exists('Model'):\n",
        "    os.mkdir('Model')\n",
        "if not os.path.exists('Vect'):\n",
        "    os.mkdir('Vect') \n",
        "    \n",
        "joblib.dump(lrg, r'Model/model.pickle') \n",
        "joblib.dump(vectorizer, r'Vect/vect.pickle')\n"
      ],
      "execution_count": 141,
      "outputs": [
        {
          "output_type": "execute_result",
          "data": {
            "text/plain": [
              "['Vect/vect.pickle']"
            ]
          },
          "metadata": {
            "tags": []
          },
          "execution_count": 141
        }
      ]
    },
    {
      "cell_type": "code",
      "metadata": {
        "id": "TCz8E8GV-vI-",
        "colab_type": "code",
        "colab": {}
      },
      "source": [
        "#--Prediction in Action\n",
        "#--load model and scaler objects\n",
        "model = joblib.load(r'Model/model.pickle')\n",
        "vectorify = joblib.load(r'Vect/vect.pickle')"
      ],
      "execution_count": 142,
      "outputs": []
    },
    {
      "cell_type": "code",
      "metadata": {
        "id": "w4Y1j0ddcX76",
        "colab_type": "code",
        "colab": {}
      },
      "source": [
        "def Predict(text):\n",
        "    txt = remove_punctuation(text)\n",
        "    p = model.predict_proba(vectorify.transform([txt]))\n",
        "    if p[0][0] > 0.5:\n",
        "        print('Sentiment type: Negative, \\nProbability:', p[0][0] * 100,'%')\n",
        "    else: \n",
        "        print('Sentiment type: Positive, \\nProbability:', p[0][1] * 100,'%')"
      ],
      "execution_count": 164,
      "outputs": []
    },
    {
      "cell_type": "code",
      "metadata": {
        "id": "qwy2tkau7FiE",
        "colab_type": "code",
        "colab": {
          "base_uri": "https://localhost:8080/",
          "height": 51
        },
        "outputId": "79d474ae-e8c3-4204-d091-724a2bddef30"
      },
      "source": [
        "Predict(''' It is hard to handle and I would not suggest purchasing it.''')"
      ],
      "execution_count": 165,
      "outputs": [
        {
          "output_type": "stream",
          "text": [
            "Sentiment type: Negative, \n",
            "Probability: 75.88127719565728 %\n"
          ],
          "name": "stdout"
        }
      ]
    },
    {
      "cell_type": "code",
      "metadata": {
        "id": "TPstB7Jnfpb6",
        "colab_type": "code",
        "colab": {
          "base_uri": "https://localhost:8080/",
          "height": 51
        },
        "outputId": "6b36c610-53a4-49d8-a2a3-1022ad889d99"
      },
      "source": [
        "Predict('''Don't waste your money on this product ''')"
      ],
      "execution_count": 166,
      "outputs": [
        {
          "output_type": "stream",
          "text": [
            "Sentiment type: Negative, \n",
            "Probability: 92.7022079548014 %\n"
          ],
          "name": "stdout"
        }
      ]
    },
    {
      "cell_type": "code",
      "metadata": {
        "id": "gGkP-5zJfaIY",
        "colab_type": "code",
        "colab": {
          "base_uri": "https://localhost:8080/",
          "height": 51
        },
        "outputId": "ea023801-99be-449f-9fd5-d55be9cca2d4"
      },
      "source": [
        "Predict('''Amazing Product, just loved it.''')"
      ],
      "execution_count": 167,
      "outputs": [
        {
          "output_type": "stream",
          "text": [
            "Sentiment type: Positive, \n",
            "Probability: 96.07875773027237 %\n"
          ],
          "name": "stdout"
        }
      ]
    },
    {
      "cell_type": "code",
      "metadata": {
        "id": "8QiGSEZjh8Ti",
        "colab_type": "code",
        "colab": {
          "base_uri": "https://localhost:8080/",
          "height": 51
        },
        "outputId": "9a0e08bb-ab8b-405d-e530-8e2922538cad"
      },
      "source": [
        "Predict('''It is ok, but not that good.''')"
      ],
      "execution_count": 168,
      "outputs": [
        {
          "output_type": "stream",
          "text": [
            "Sentiment type: Positive, \n",
            "Probability: 55.96267196037722 %\n"
          ],
          "name": "stdout"
        }
      ]
    }
  ]
}
